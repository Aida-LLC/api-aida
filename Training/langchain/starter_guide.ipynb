{
 "cells": [
  {
   "cell_type": "code",
   "execution_count": 33,
   "metadata": {},
   "outputs": [
    {
     "name": "stdout",
     "output_type": "stream",
     "text": [
      "Collecting numexpr\n",
      "  Downloading numexpr-2.9.0-cp311-cp311-win_amd64.whl.metadata (8.1 kB)\n",
      "Requirement already satisfied: numpy>=1.13.3 in c:\\users\\edgar\\appdata\\local\\programs\\python\\python311\\lib\\site-packages (from numexpr) (1.24.3)\n",
      "Downloading numexpr-2.9.0-cp311-cp311-win_amd64.whl (96 kB)\n",
      "   ---------------------------------------- 0.0/96.6 kB ? eta -:--:--\n",
      "   ---------------------------------------- 0.0/96.6 kB ? eta -:--:--\n",
      "   ------------ --------------------------- 30.7/96.6 kB ? eta -:--:--\n",
      "   ------------ --------------------------- 30.7/96.6 kB ? eta -:--:--\n",
      "   ------------ --------------------------- 30.7/96.6 kB ? eta -:--:--\n",
      "   ------------ --------------------------- 30.7/96.6 kB ? eta -:--:--\n",
      "   ---------------- ----------------------- 41.0/96.6 kB 140.9 kB/s eta 0:00:01\n",
      "   ---------------- ----------------------- 41.0/96.6 kB 140.9 kB/s eta 0:00:01\n",
      "   ---------------- ----------------------- 41.0/96.6 kB 140.9 kB/s eta 0:00:01\n",
      "   ---------------- ----------------------- 41.0/96.6 kB 140.9 kB/s eta 0:00:01\n",
      "   ---------------------------------------- 96.6/96.6 kB 184.4 kB/s eta 0:00:00\n",
      "Installing collected packages: numexpr\n",
      "Successfully installed numexpr-2.9.0\n"
     ]
    }
   ],
   "source": [
    "#!pip install openai\n",
    "#!pip install langchain\n",
    "#!pip install google-search-results\n",
    "# !pip install numexpr"
   ]
  },
  {
   "cell_type": "code",
   "execution_count": null,
   "metadata": {},
   "outputs": [],
   "source": [
    "import os\n",
    "os.environ['OPENAI_API_KEY'] = \"\""
   ]
  },
  {
   "cell_type": "code",
   "execution_count": 7,
   "metadata": {},
   "outputs": [],
   "source": [
    "from langchain.llms import OpenAI"
   ]
  },
  {
   "cell_type": "code",
   "execution_count": 9,
   "metadata": {},
   "outputs": [],
   "source": [
    "llm = OpenAI(\n",
    "    temperature=0.5\n",
    ")"
   ]
  },
  {
   "cell_type": "code",
   "execution_count": 10,
   "metadata": {},
   "outputs": [],
   "source": [
    "text = \"So i am learning langchain and i would like you to help me create a roadmap that i can follow to learn it\"\n",
    "llm_call = llm(text)"
   ]
  },
  {
   "cell_type": "code",
   "execution_count": 11,
   "metadata": {},
   "outputs": [
    {
     "name": "stdout",
     "output_type": "stream",
     "text": [
      " efficiently.\n",
      "\n",
      "1. Start with the basics: Begin by learning the basic concepts of Langchain, such as its purpose, features, and syntax. This will provide a foundation for your learning journey.\n",
      "\n",
      "2. Familiarize yourself with the programming environment: Download and install the necessary software and tools to write and run Langchain code. This includes a code editor, compiler, and debugger.\n",
      "\n",
      "3. Learn the data types and variables: Get familiar with the different data types and how to declare and use variables to store and manipulate data in Langchain.\n",
      "\n",
      "4. Understand control structures: Learn about control structures such as if/else statements, loops, and switch statements. These are essential for controlling the flow of your program.\n",
      "\n",
      "5. Study functions and modules: Functions and modules allow you to break your code into smaller, reusable chunks. Learn how to write and use functions and modules in Langchain.\n",
      "\n",
      "6. Practice with exercises and projects: The best way to learn a programming language is by practicing. Look for exercises and projects online and try to solve them using Langchain.\n",
      "\n",
      "7. Read the documentation: Familiarize yourself with the official documentation of Langchain. It contains detailed information about the language and its features, as well as examples and tutorials.\n",
      "\n",
      "8. Join online communities: Join\n"
     ]
    }
   ],
   "source": [
    "print(llm_call)"
   ]
  },
  {
   "cell_type": "markdown",
   "metadata": {},
   "source": [
    "## Prompt template"
   ]
  },
  {
   "cell_type": "code",
   "execution_count": 12,
   "metadata": {},
   "outputs": [],
   "source": [
    "from langchain.prompts import PromptTemplate"
   ]
  },
  {
   "cell_type": "code",
   "execution_count": 20,
   "metadata": {},
   "outputs": [],
   "source": [
    "prompt = PromptTemplate(\n",
    "    input_variables = [\"area\"],\n",
    "    template=\"where is in {area}?\"\n",
    ")"
   ]
  },
  {
   "cell_type": "code",
   "execution_count": 23,
   "metadata": {},
   "outputs": [
    {
     "data": {
      "text/plain": [
       "'where is in russia?'"
      ]
     },
     "execution_count": 23,
     "metadata": {},
     "output_type": "execute_result"
    }
   ],
   "source": [
    "generated_prompt = prompt.format(area=\"russia\")\n",
    "generated_prompt"
   ]
  },
  {
   "cell_type": "code",
   "execution_count": 24,
   "metadata": {},
   "outputs": [],
   "source": [
    "llm_call = llm(generated_prompt)"
   ]
  },
  {
   "cell_type": "code",
   "execution_count": 25,
   "metadata": {},
   "outputs": [
    {
     "name": "stdout",
     "output_type": "stream",
     "text": [
      "\n",
      "\n",
      "Russia is located in Eastern Europe and Northern Asia, spanning over 11 time zones. It shares borders with Norway, Finland, Estonia, Latvia, Lithuania, Poland, Belarus, Ukraine, Georgia, Azerbaijan, Kazakhstan, Mongolia, China, and North Korea. Its capital city is Moscow.\n"
     ]
    }
   ],
   "source": [
    "print(llm_call)"
   ]
  },
  {
   "cell_type": "markdown",
   "metadata": {},
   "source": [
    "## Prompt chaining"
   ]
  },
  {
   "cell_type": "code",
   "execution_count": 19,
   "metadata": {},
   "outputs": [],
   "source": [
    "from langchain.chains import LLMChain"
   ]
  },
  {
   "cell_type": "code",
   "execution_count": 26,
   "metadata": {},
   "outputs": [],
   "source": [
    "chain = LLMChain(llm=llm, prompt=prompt)"
   ]
  },
  {
   "cell_type": "code",
   "execution_count": 27,
   "metadata": {},
   "outputs": [
    {
     "name": "stdout",
     "output_type": "stream",
     "text": [
      "\n",
      "\n",
      "Dar es Salaam is a city located on the eastern coast of Tanzania, in East Africa. It is the largest city in Tanzania and the country's commercial and financial hub.\n"
     ]
    }
   ],
   "source": [
    "print(chain.run(area=\"Dar es salaam\"))"
   ]
  },
  {
   "cell_type": "markdown",
   "metadata": {},
   "source": [
    "## Agents"
   ]
  },
  {
   "cell_type": "code",
   "execution_count": 40,
   "metadata": {},
   "outputs": [],
   "source": [
    "from langchain.agents import load_tools\n",
    "from langchain.agents import initialize_agent"
   ]
  },
  {
   "cell_type": "code",
   "execution_count": 41,
   "metadata": {},
   "outputs": [],
   "source": [
    "os.environ['SERPAPI_API_KEY'] = \"08adb40c8014950f761bad452b576f21771e6fc09552488f10b88780e33336b7\""
   ]
  },
  {
   "cell_type": "code",
   "execution_count": 42,
   "metadata": {},
   "outputs": [],
   "source": [
    "tools = load_tools(\n",
    "    [\"serpapi\", \"llm-math\"],\n",
    "    llm=llm\n",
    ")"
   ]
  },
  {
   "cell_type": "code",
   "execution_count": 43,
   "metadata": {},
   "outputs": [],
   "source": [
    "search_agent = initialize_agent(\n",
    "    tools,\n",
    "    llm,\n",
    "    agent=\"zero-shot-react-description\",\n",
    "    verbose=True\n",
    ")"
   ]
  },
  {
   "cell_type": "code",
   "execution_count": 46,
   "metadata": {},
   "outputs": [
    {
     "name": "stdout",
     "output_type": "stream",
     "text": [
      "\n",
      "\n",
      "\u001b[1m> Entering new AgentExecutor chain...\u001b[0m\n",
      "\u001b[32;1m\u001b[1;3m I should use a search engine to find information about the capital and population of Tanzania.\n",
      "Action: Search\n",
      "Action Input: \"Capital of Tanzania\" and \"Population of Dar es salaam\"\u001b[0m\n",
      "Observation: \u001b[36;1m\u001b[1;3mDemographics. Dar es Salaam is the most populous city in Tanzania and the fifth most populous in Africa. In 2020, the population was estimated to be 6.4 million. When the 2012 national census was taken, the city had a population of 4,364,541, about ten percent of the country's total.\u001b[0m\n",
      "Thought:\u001b[32;1m\u001b[1;3m I should use a calculator to find the population of Tanzania.\n",
      "Action: Calculator\n",
      "Action Input: 6.4 million\u001b[0m\n",
      "Observation: \u001b[33;1m\u001b[1;3mAnswer: 6400000.0\u001b[0m\n",
      "Thought:\u001b[32;1m\u001b[1;3m I now know the final answer.\n",
      "Final Answer: The capital of Tanzania is Dodoma and the population of Dar es Salaam is 6.4 million.\u001b[0m\n",
      "\n",
      "\u001b[1m> Finished chain.\u001b[0m\n"
     ]
    }
   ],
   "source": [
    "request_prompt = \"I want to know the capital of Tanzania, and the population of Dar es salaam.\"\n",
    "agent_response = search_agent.run(request_prompt)"
   ]
  },
  {
   "cell_type": "code",
   "execution_count": null,
   "metadata": {},
   "outputs": [],
   "source": []
  }
 ],
 "metadata": {
  "kernelspec": {
   "display_name": "Python 3",
   "language": "python",
   "name": "python3"
  },
  "language_info": {
   "codemirror_mode": {
    "name": "ipython",
    "version": 3
   },
   "file_extension": ".py",
   "mimetype": "text/x-python",
   "name": "python",
   "nbconvert_exporter": "python",
   "pygments_lexer": "ipython3",
   "version": "3.11.4"
  }
 },
 "nbformat": 4,
 "nbformat_minor": 2
}
